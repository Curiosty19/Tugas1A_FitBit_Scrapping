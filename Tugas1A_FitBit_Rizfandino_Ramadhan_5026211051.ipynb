{
  "nbformat": 4,
  "nbformat_minor": 0,
  "metadata": {
    "colab": {
      "provenance": []
    },
    "kernelspec": {
      "name": "python3",
      "display_name": "Python 3"
    },
    "language_info": {
      "name": "python"
    }
  },
  "cells": [
    {
      "cell_type": "markdown",
      "source": [
        "# Tugas 1A FitBit"
      ],
      "metadata": {
        "id": "DHzYT4XS-tRP"
      }
    },
    {
      "cell_type": "markdown",
      "source": [
        "### Preprocessing dataset"
      ],
      "metadata": {
        "id": "Zny6EI9_-9xW"
      }
    },
    {
      "cell_type": "code",
      "execution_count": 1,
      "metadata": {
        "id": "7gWwowzD3T4z"
      },
      "outputs": [],
      "source": [
        "# Import necessary libraries\n",
        "import pandas as pd\n",
        "import re\n",
        "import string\n",
        "import nltk"
      ]
    },
    {
      "cell_type": "code",
      "source": [
        "# Download required NLTK resources (only need to run these once)\n",
        "nltk.download('punkt')\n",
        "nltk.download('stopwords')\n",
        "nltk.download('punkt_tab')"
      ],
      "metadata": {
        "colab": {
          "base_uri": "https://localhost:8080/"
        },
        "id": "-0WVTtNP6DzF",
        "outputId": "78495f45-f762-4af0-df59-ef6ee4954286"
      },
      "execution_count": 9,
      "outputs": [
        {
          "output_type": "stream",
          "name": "stderr",
          "text": [
            "[nltk_data] Downloading package punkt to /root/nltk_data...\n",
            "[nltk_data]   Package punkt is already up-to-date!\n",
            "[nltk_data] Downloading package stopwords to /root/nltk_data...\n",
            "[nltk_data]   Package stopwords is already up-to-date!\n",
            "[nltk_data] Downloading package punkt_tab to /root/nltk_data...\n",
            "[nltk_data]   Unzipping tokenizers/punkt_tab.zip.\n"
          ]
        },
        {
          "output_type": "execute_result",
          "data": {
            "text/plain": [
              "True"
            ]
          },
          "metadata": {},
          "execution_count": 9
        }
      ]
    },
    {
      "cell_type": "markdown",
      "source": [
        "### Tokenization, Stemming, Preprocessing"
      ],
      "metadata": {
        "id": "_jRpQInv_JSc"
      }
    },
    {
      "cell_type": "code",
      "source": [
        "from nltk.tokenize import word_tokenize\n",
        "from nltk.corpus import stopwords\n",
        "from nltk.stem import PorterStemmer\n",
        "\n",
        "# Define the text preprocessing function with error handling\n",
        "def preprocess_text(text):\n",
        "    # If the value is not a string (e.g., NaN), return an empty list\n",
        "    if not isinstance(text, str):\n",
        "        return []\n",
        "    # Convert text to lowercase\n",
        "    text = text.lower()\n",
        "    # Remove non-alphabetical characters (retains spaces)\n",
        "    text = re.sub(r'[^a-z\\s]', '', text)\n",
        "    # Tokenize the text\n",
        "    tokens = word_tokenize(text)\n",
        "    # Remove stopwords\n",
        "    stop_words = set(stopwords.words('english'))\n",
        "    tokens = [word for word in tokens if word not in stop_words]\n",
        "    # Initialize the stemmer and apply stemming to each token\n",
        "    stemmer = PorterStemmer()\n",
        "    tokens = [stemmer.stem(word) for word in tokens]\n",
        "    return tokens"
      ],
      "metadata": {
        "id": "dT081uFZ6Fpe"
      },
      "execution_count": 13,
      "outputs": []
    },
    {
      "cell_type": "code",
      "source": [
        "# Load your dataset\n",
        "df = pd.read_csv('df_fitrev')"
      ],
      "metadata": {
        "id": "PX7BeC7n6MoI"
      },
      "execution_count": 14,
      "outputs": []
    },
    {
      "cell_type": "code",
      "source": [
        "# Apply the preprocess_text function on the reviews column\n",
        "df['cleaned_content'] = df['content'].apply(preprocess_text)"
      ],
      "metadata": {
        "id": "en4RuBO06Ok7"
      },
      "execution_count": 15,
      "outputs": []
    },
    {
      "cell_type": "markdown",
      "source": [
        "### Download cleaned dataset"
      ],
      "metadata": {
        "id": "q99Rv1Z3_PRV"
      }
    },
    {
      "cell_type": "code",
      "source": [
        "# Save the cleaned DataFrame to a new CSV file\n",
        "df.to_csv('df_fitrev_cleaned.csv', index=False)"
      ],
      "metadata": {
        "id": "V3_QtgzZ9kEG"
      },
      "execution_count": 17,
      "outputs": []
    },
    {
      "cell_type": "code",
      "source": [
        "# Display the first few rows of the processed DataFrame\n",
        "print(df.head())"
      ],
      "metadata": {
        "colab": {
          "base_uri": "https://localhost:8080/"
        },
        "id": "1uGhWXmR6R84",
        "outputId": "b37ec4ac-61df-4f15-80e0-3a921e9bac27"
      },
      "execution_count": 16,
      "outputs": [
        {
          "output_type": "stream",
          "name": "stdout",
          "text": [
            "                               reviewId       userName  \\\n",
            "0  63e023b1-cdd4-44a1-8fbe-5b877840311f  A Google user   \n",
            "1  b1345ccc-5259-4409-b1ed-03208db99cd7  A Google user   \n",
            "2  3d316fc4-c8e4-47af-b539-17acbc6be17c  A Google user   \n",
            "3  5194a367-8910-4a48-b4b6-63359b8ed6ea  A Google user   \n",
            "4  f0a48c73-cc46-4afe-85a2-3df56b01f148  A Google user   \n",
            "\n",
            "                                           userImage  \\\n",
            "0  https://play-lh.googleusercontent.com/EGemoI2N...   \n",
            "1  https://play-lh.googleusercontent.com/EGemoI2N...   \n",
            "2  https://play-lh.googleusercontent.com/EGemoI2N...   \n",
            "3  https://play-lh.googleusercontent.com/EGemoI2N...   \n",
            "4  https://play-lh.googleusercontent.com/EGemoI2N...   \n",
            "\n",
            "                                             content  score  thumbsUpCount  \\\n",
            "0  Love the app, but just recently I don't get a ...      4              0   \n",
            "1  Well, it finally happened to me. My charge 5 h...      1              0   \n",
            "2  My steps are keep resetting to the lower numbe...      3              0   \n",
            "3  The app is horrible recently. I use fitbit for...      1              0   \n",
            "4  This is the worst app on my phone. Won't conne...      1              0   \n",
            "\n",
            "                     reviewCreatedVersion                   at  \\\n",
            "0                                     NaN  2025-03-05 06:47:15   \n",
            "1  4.37.fitbit-mobile-110222988-728765411  2025-03-05 06:23:59   \n",
            "2  4.37.fitbit-mobile-110222988-728765411  2025-03-05 04:27:31   \n",
            "3  4.37.fitbit-mobile-110222988-728765411  2025-03-05 04:11:49   \n",
            "4                                     NaN  2025-03-05 04:10:00   \n",
            "\n",
            "                                        replyContent            repliedAt  \\\n",
            "0  Hi, Lisa. We're sorry to hear this and for doi...  2025-03-05 07:15:49   \n",
            "1  Hi, J Kay. We're sorry to hear this. Try these...  2025-03-05 06:26:49   \n",
            "2  Hi, Allya. Please try the following steps: log...  2025-03-05 05:00:14   \n",
            "3  Hi, Akinorev. Sorry to hear this. Thanks for t...  2025-03-05 04:39:34   \n",
            "4  Hi, James. We're sorry to hear this. If you ha...  2024-10-26 14:33:45   \n",
            "\n",
            "                               appVersion  \\\n",
            "0                                     NaN   \n",
            "1  4.37.fitbit-mobile-110222988-728765411   \n",
            "2  4.37.fitbit-mobile-110222988-728765411   \n",
            "3  4.37.fitbit-mobile-110222988-728765411   \n",
            "4                                     NaN   \n",
            "\n",
            "                                     cleaned_content  \n",
            "0  [love, app, recent, dont, get, score, stress, ...  \n",
            "1  [well, final, happen, charg, random, rapid, ba...  \n",
            "2  [step, keep, reset, lower, number, reach, step...  \n",
            "3  [app, horribl, recent, use, fitbit, year, app,...  \n",
            "4  [worst, app, phone, wont, connect, alexa, log,...  \n"
          ]
        }
      ]
    }
  ]
}